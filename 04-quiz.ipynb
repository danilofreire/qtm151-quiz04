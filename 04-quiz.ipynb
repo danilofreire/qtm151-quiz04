{
 "cells": [
  {
   "cell_type": "markdown",
   "metadata": {},
   "source": [
    "# QTM 151 - Introduction to Statistical Computing II\n",
    "\n",
    "## Quiz 04 - SQL\n",
    "\n",
    "In this quiz, you will demonstrate your ability to write SQL queries and extract information from tables.\n",
    "\n",
    "You are free to use any resources available to you, including the internet, but you are not allowed to discuss the quiz with anyone else.\n",
    "\n",
    "You are also free to use any database management system you prefer (pgAdmin, SQLAlchemy, SQLite, etc.), but the queries must be written in SQL.\n",
    "\n",
    "Please submit your answers as a `.sql`, `.ipynb`, or `.html` file. If you submit an `.html` file, please include the SQL queries.\n",
    "\n",
    "You will work with two tables, one named `cars` and the other named `brand_data`. They are both available as `.csv` files in this repository, or you can create them yourself using the data provided below. \n",
    "\n",
    "## Questions\n",
    "\n",
    "First, please establish a connection to your database, either via Python or directly in your database management system."
   ]
  },
  {
   "cell_type": "code",
   "execution_count": null,
   "metadata": {},
   "outputs": [],
   "source": [
    "# Your answer goes here"
   ]
  },
  {
   "cell_type": "markdown",
   "metadata": {},
   "source": [
    "### Question 1\n",
    "\n",
    "Read the files `brand_data.csv` and `cars.csv` using the `to_sql` command. Call the new datasets `brand_data` and `cars`, respectively, in the server.\n",
    "\n",
    "OR: Create the tables `brand_data` and `cars` using the data provided below.\n",
    "\n",
    "Just do one of the two options above."
   ]
  },
  {
   "cell_type": "code",
   "execution_count": null,
   "metadata": {
    "vscode": {
     "languageId": "sql"
    }
   },
   "outputs": [],
   "source": [
    "DROP TABLE IF EXISTS cars;\n",
    "CREATE TABLE cars (\n",
    "    car_id INTEGER PRIMARY KEY,\n",
    "    make TEXT,\n",
    "    price NUMERIC,\n",
    "    mpg NUMERIC,\n",
    "    rep78 NUMERIC,\n",
    "    headroom NUMERIC,\n",
    "    trunk NUMERIC,\n",
    "    weight NUMERIC,\n",
    "    length NUMERIC,\n",
    "    turn NUMERIC,\n",
    "    displacement NUMERIC,\n",
    "    gear_ratio NUMERIC,\n",
    "    brand TEXT\n",
    ");\n",
    "\n",
    "INSERT INTO cars (car_id, make, price, mpg, rep78, headroom, trunk, weight, length, turn, displacement, gear_ratio, brand) VALUES\n",
    "(1, 'Audi Fox', 6295, 23, 3.0, 2.5, 11, 2070, 174, 36, 97, 3.7, 'Audi'),\n",
    "(2, 'Buick Century', 4816, 20, 3.0, 4.5, 16, 3250, 196, 40, 196, 2.93, 'Buick'),\n",
    "(3, 'Buick LeSabre', 5788, 18, 3.0, 4.0, 21, 3670, 218, 43, 231, 2.73, 'Buick'),\n",
    "(4, 'Buick Skylark', 4082, 19, 3.0, 3.5, 13, 3400, 200, 42, 231, 3.08, 'Buick'),\n",
    "(5, 'Datsun 210', 4589, 35, 5.0, 2.0, 8, 2020, 165, 32, 85, 3.7, 'Datsun'),\n",
    "(6, 'Datsun 810', 8129, 21, 4.0, 2.5, 8, 2750, 184, 38, 146, 3.55, 'Datsun'),\n",
    "(7, 'Ford Mustang', 4187, 21, 3.0, 2.0, 10, 2650, 179, 43, 140, 3.08, 'Ford'),\n",
    "(8, 'Honda Civic', 4499, 28, 4.0, 2.5, 5, 1760, 149, 34, 91, 3.3, 'Honda'),\n",
    "(9, 'Merc. Bobcat', 3829, 22, 4.0, 3.0, 9, 2580, 169, 39, 140, 2.73, 'Merc.'),\n",
    "(10, 'Merc. Cougar', 5379, 14, 4.0, 3.5, 16, 4060, 221, 48, 302, 2.75, 'Merc.'),\n",
    "(11, 'Merc. Marquis', 6165, 15, 3.0, 3.5, 23, 3720, 212, 44, 302, 2.26, 'Merc.'),\n",
    "(12, 'Merc. XR-7', 6303, 14, 4.0, 3.0, 16, 4130, 217, 45, 302, 2.75, 'Merc.'),\n",
    "(13, 'Merc. Zephyr', 3291, 20, 3.0, 3.5, 17, 2830, 195, 43, 140, 3.08, 'Merc.'),\n",
    "(14, 'Olds Cutl Supr', 5172, 19, 3.0, 2.0, 16, 3310, 198, 42, 231, 2.93, 'Olds'),\n",
    "(15, 'Olds Cutlass', 4733, 19, 3.0, 4.5, 16, 3300, 198, 42, 231, 2.93, 'Olds'),\n",
    "(16, 'Plym. Horizon', 4482, 25, 3.0, 4.0, 17, 2200, 165, 36, 105, 3.37, 'Plym.'),\n",
    "(17, 'Plym. Volare', 4060, 18, 2.0, 5.0, 16, 3330, 201, 44, 225, 3.23, 'Plym.'),\n",
    "(18, 'Pont. Catalina', 5798, 18, 4.0, 4.0, 20, 3700, 214, 42, 231, 2.73, 'Pont.'),\n",
    "(19, 'Subaru', 3798, 35, 5.0, 2.5, 11, 2050, 164, 36, 97, 3.81, 'Subaru'),\n",
    "(20, 'Toyota Corolla', 3748, 31, 5.0, 3.0, 9, 2200, 165, 35, 97, 3.21, 'Toyota'),\n",
    "(21, 'Toyota Corona', 5719, 18, 5.0, 2.0, 11, 2670, 175, 36, 134, 3.05, 'Toyota'),\n",
    "(22, 'VW Rabbit', 4697, 25, 4.0, 3.0, 15, 1930, 155, 35, 89, 3.78, 'VW'),\n",
    "(23, 'VW Scirocco', 6850, 25, 4.0, 2.0, 16, 1990, 156, 36, 97, 3.78, 'VW')\n",
    "\n",
    "DROP TABLE IF EXISTS brand_data;\n",
    "\n",
    "CREATE TABLE brand_data (\n",
    "    brand_id NUMERIC PRIMARY KEY,\n",
    "    brand TEXT,\n",
    "    origin_type TEXT\n",
    ");\n",
    "\n",
    "INSERT INTO brand_data (brand_id, brand, origin_type) VALUES\n",
    "(1, 'AMC', 'Domestic'),\n",
    "(2, 'Buick', 'Domestic'),\n",
    "(3, 'Cad.', 'Domestic'),\n",
    "(4, 'Chev.', 'Domestic'),\n",
    "(5, 'Dodge', 'Domestic'),\n",
    "(6, 'Ford', 'Domestic'),\n",
    "(7, 'Linc.', 'Domestic'),\n",
    "(8, 'Merc.', 'Domestic'),\n",
    "(9, 'Olds', 'Domestic'),\n",
    "(10, 'Plym.', 'Domestic'),\n",
    "(11, 'Pont.', 'Domestic'),\n",
    "(12, 'Audi', 'Foreign'),\n",
    "(13, 'BMW', 'Foreign'),\n",
    "(14, 'Datsun', 'Foreign'),\n",
    "(15, 'Fiat', 'Foreign'),\n",
    "(16, 'Honda', 'Foreign'),\n",
    "(17, 'Mazda', 'Foreign'),\n",
    "(18, 'Peugeot', 'Foreign'),\n",
    "(19, 'Renault', 'Foreign'),\n",
    "(20, 'Subaru', 'Foreign'),\n",
    "(21, 'Toyota', 'Foreign'),\n",
    "(22, 'VW', 'Foreign'),\n",
    "(23, 'Volvo', 'Foreign');\n"
   ]
  },
  {
   "cell_type": "markdown",
   "metadata": {},
   "source": [
    "For questions (b)-(f) we will be working with the tables cars and brands in the SQL server. \n",
    "\n",
    "You are required to use the read_sql command for all the following questions if you are using Python. If you are using a database management system (like pgAdmin or the SQL Notebook extension), you can write the queries directly in the system.\n",
    "\n",
    "### Question 2\n",
    "\n",
    "Subset and sort\n",
    "\n",
    "- Select the columns `make`, `price`, `mpg`, and `brand`\n",
    "- Use `WHERE` to get a subset of `cars` whose brand is `Buick`\n",
    "- Sort the results by `brand` in ascending order\n",
    "- Write the query in multiple lines, one line per clause"
   ]
  },
  {
   "cell_type": "code",
   "execution_count": null,
   "metadata": {},
   "outputs": [],
   "source": [
    "# Your answer goes here"
   ]
  },
  {
   "cell_type": "markdown",
   "metadata": {},
   "source": [
    "### Question 3\n",
    "\n",
    "Groupby + Aggregate + Sort\n",
    "\n",
    "- From `cars`, obtain the average of `mpg` by `brand` using `GROUP BY`\n",
    "- Use `ORDER BY` to sort by the average of `mpg` in descending order\n",
    "- Limit the results to the top 5 brands with the highest average `mpg`"
   ]
  },
  {
   "cell_type": "code",
   "execution_count": null,
   "metadata": {},
   "outputs": [],
   "source": [
    "# Your answer goes here"
   ]
  },
  {
   "cell_type": "markdown",
   "metadata": {},
   "source": [
    "### Question 4\n",
    "\n",
    "Groupby + Aggregate + Sort\n",
    "\n",
    "- From `cars`, obtain the average of `mpg` by brand using `GROUP BY`\n",
    "- Sort the results by the average of `mpg` in descending order\n",
    "- Use `HAVING` to filter `brands` with an average `mpg` strictly higher than 20\n",
    "- Make sure to seperate your `HAVING` and `GROUP BY` clauses\n",
    "\n",
    "HINT: Use `HAVING AVG(mpg)` rather than an alias for the code to work correctly"
   ]
  },
  {
   "cell_type": "code",
   "execution_count": null,
   "metadata": {},
   "outputs": [],
   "source": [
    "# Your answer goes here"
   ]
  },
  {
   "cell_type": "markdown",
   "metadata": {},
   "source": [
    "### Question 5\n",
    "\n",
    "Groupby and multiple aggregations\n",
    "\n",
    "- From `cars`, obtain the average, min, and max of each brand's `price` using `GROUP BY`\n",
    "- Make sure to split the aggregations into separate columns\n",
    "- Sort the results by `brand` in ascending order"
   ]
  },
  {
   "cell_type": "code",
   "execution_count": null,
   "metadata": {},
   "outputs": [],
   "source": [
    "# Your answer goes here"
   ]
  },
  {
   "cell_type": "markdown",
   "metadata": {},
   "source": [
    "### Question 6\n",
    "\n",
    "Merge\n",
    "\n",
    "- From `cars`, `LEFT JOIN` the dataset `brand_data` using `brand` as a merging variable\n",
    "- Select the columns `make`, `price`, `mpg`, and `origin_type`\n",
    "- Sort the results by `origin_type` in ascending order"
   ]
  },
  {
   "cell_type": "code",
   "execution_count": null,
   "metadata": {},
   "outputs": [],
   "source": [
    "# Your answer goes here"
   ]
  },
  {
   "cell_type": "markdown",
   "metadata": {},
   "source": [
    "Good luck! 😊"
   ]
  }
 ],
 "metadata": {
  "kernelspec": {
   "display_name": "base",
   "language": "python",
   "name": "python3"
  },
  "language_info": {
   "name": "python",
   "version": "3.12.2"
  }
 },
 "nbformat": 4,
 "nbformat_minor": 2
}
